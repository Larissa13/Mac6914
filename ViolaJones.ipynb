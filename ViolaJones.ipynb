{
 "cells": [
  {
   "cell_type": "code",
   "execution_count": 1,
   "metadata": {},
   "outputs": [],
   "source": [
    "import cv2 as cv\n",
    "import numpy as np\n",
    "%matplotlib inline"
   ]
  },
  {
   "cell_type": "code",
   "execution_count": 2,
   "metadata": {},
   "outputs": [],
   "source": [
    "face_c = cv.CascadeClassifier('/home/larissa/opencv/data/haarcascades/haarcascade_frontalface_alt2.xml')\n",
    "eye_c = cv.CascadeClassifier('/home/larissa/opencv/data/haarcascades/haarcascade_eye.xml')\n",
    "eye_cg = cv.CascadeClassifier('/home/larissa/opencv/data/haarcascades/haarcascade_eye_tree_eyeglasses.xml')\n"
   ]
  },
  {
   "cell_type": "code",
   "execution_count": 3,
   "metadata": {
    "collapsed": true
   },
   "outputs": [],
   "source": [
    "img1 = cv.imread('images/colacao1.jpg')\n",
    "img2 = cv.imread('images/mark_bday.jpeg')"
   ]
  },
  {
   "cell_type": "code",
   "execution_count": 4,
   "metadata": {
    "collapsed": true
   },
   "outputs": [],
   "source": [
    "gray1 = cv.cvtColor(img1, cv.COLOR_BGR2GRAY)\n",
    "gray2 = cv.cvtColor(img2, cv.COLOR_BGR2GRAY)"
   ]
  },
  {
   "cell_type": "code",
   "execution_count": 5,
   "metadata": {},
   "outputs": [],
   "source": [
    "# The detected objects are returned as a list of rectangles.\n",
    "def detector(img, img_gray, det_f, det_e, det_g):\n",
    "    faces = det_f.detectMultiScale(img_gray, 1.3, 2)\n",
    "    for (x, y, w, h) in faces:\n",
    "        cv.rectangle(img,(x,y),(x+w,y+h),(155,0,155),2)\n",
    "        roi_gray = img_gray[y:y+h, x:x+w]\n",
    "        roi_rgb = img[y:y+h, x:x+w]\n",
    "        eyes = det_e.detectMultiScale(roi_gray, 1.3, 1)\n",
    "        cv.imshow(\"img1\", roi_rgb)\n",
    "        cv.waitKey(0)\n",
    "        cv.destroyAllWindows()\n",
    "        for (ex, ey, ew, eh) in eyes:\n",
    "            cv.rectangle(roi_rgb, (ex, ey), (ex+ew, ey+eh), (0, 155, 155), 2)\n",
    "        eyes_g = det_g.detectMultiScale(roi_gray, 1.3, 1)\n",
    "        for (ex, ey, ew, eh) in eyes_g:\n",
    "            cv.rectangle(roi_rgb, (ex, ey), (ex+ew, ey+eh), (0, 0, 155), 2)\n",
    "    return img"
   ]
  },
  {
   "cell_type": "code",
   "execution_count": 6,
   "metadata": {
    "collapsed": true
   },
   "outputs": [],
   "source": [
    "img1 = cv.imread('images/colacao1.jpg')\n",
    "img2 = cv.imread('images/mark_bday.jpeg')"
   ]
  },
  {
   "cell_type": "code",
   "execution_count": 7,
   "metadata": {},
   "outputs": [
    {
     "data": {
      "text/plain": [
       "array([[[170, 184, 202],\n",
       "        [171, 185, 203],\n",
       "        [171, 185, 203],\n",
       "        ..., \n",
       "        [112, 101,  93],\n",
       "        [ 98,  87,  79],\n",
       "        [113, 102,  94]],\n",
       "\n",
       "       [[180, 195, 211],\n",
       "        [178, 193, 209],\n",
       "        [176, 191, 207],\n",
       "        ..., \n",
       "        [116, 105,  97],\n",
       "        [ 95,  84,  76],\n",
       "        [102,  91,  83]],\n",
       "\n",
       "       [[189, 202, 216],\n",
       "        [184, 197, 211],\n",
       "        [179, 192, 206],\n",
       "        ..., \n",
       "        [105,  96,  87],\n",
       "        [ 97,  86,  78],\n",
       "        [104,  93,  85]],\n",
       "\n",
       "       ..., \n",
       "       [[160, 169, 179],\n",
       "        [183, 192, 202],\n",
       "        [175, 184, 194],\n",
       "        ..., \n",
       "        [210, 209, 205],\n",
       "        [211, 210, 206],\n",
       "        [212, 211, 207]],\n",
       "\n",
       "       [[179, 188, 198],\n",
       "        [176, 185, 195],\n",
       "        [169, 178, 188],\n",
       "        ..., \n",
       "        [209, 208, 204],\n",
       "        [210, 209, 205],\n",
       "        [210, 209, 205]],\n",
       "\n",
       "       [[156, 165, 175],\n",
       "        [154, 163, 173],\n",
       "        [166, 175, 185],\n",
       "        ..., \n",
       "        [207, 206, 202],\n",
       "        [206, 205, 201],\n",
       "        [206, 205, 201]]], dtype=uint8)"
      ]
     },
     "execution_count": 7,
     "metadata": {},
     "output_type": "execute_result"
    }
   ],
   "source": [
    "detector(img1, gray1, face_c, eye_c, eye_cg)"
   ]
  },
  {
   "cell_type": "code",
   "execution_count": 8,
   "metadata": {},
   "outputs": [],
   "source": [
    "cv.imshow(\"img1\", img1)\n",
    "cv.waitKey(0)\n",
    "cv.destroyAllWindows()"
   ]
  },
  {
   "cell_type": "code",
   "execution_count": 9,
   "metadata": {},
   "outputs": [
    {
     "data": {
      "text/plain": [
       "array([[[ 12,  17,  20],\n",
       "        [ 10,  15,  18],\n",
       "        [  9,  14,  17],\n",
       "        ..., \n",
       "        [ 67, 113, 144],\n",
       "        [ 61, 107, 138],\n",
       "        [ 48,  94, 125]],\n",
       "\n",
       "       [[ 12,  17,  20],\n",
       "        [ 10,  15,  18],\n",
       "        [  9,  14,  17],\n",
       "        ..., \n",
       "        [ 74, 117, 150],\n",
       "        [ 61, 104, 137],\n",
       "        [ 45,  88, 121]],\n",
       "\n",
       "       [[ 12,  17,  20],\n",
       "        [ 11,  16,  19],\n",
       "        [ 10,  15,  18],\n",
       "        ..., \n",
       "        [ 66, 109, 142],\n",
       "        [ 51,  94, 127],\n",
       "        [ 36,  79, 112]],\n",
       "\n",
       "       ..., \n",
       "       [[ 62,  97, 130],\n",
       "        [ 61,  96, 129],\n",
       "        [ 60,  95, 128],\n",
       "        ..., \n",
       "        [ 13,  22,  65],\n",
       "        [ 12,  19,  58],\n",
       "        [ 13,  19,  56]],\n",
       "\n",
       "       [[ 63,  98, 131],\n",
       "        [ 62,  97, 130],\n",
       "        [ 61,  96, 129],\n",
       "        ..., \n",
       "        [ 12,  22,  62],\n",
       "        [ 13,  21,  58],\n",
       "        [ 11,  17,  52]],\n",
       "\n",
       "       [[ 62,  97, 130],\n",
       "        [ 61,  96, 129],\n",
       "        [ 59,  94, 127],\n",
       "        ..., \n",
       "        [ 11,  21,  61],\n",
       "        [ 13,  21,  58],\n",
       "        [  9,  15,  50]]], dtype=uint8)"
      ]
     },
     "execution_count": 9,
     "metadata": {},
     "output_type": "execute_result"
    }
   ],
   "source": [
    "detector(img2, gray2, face_c, eye_c, eye_cg)"
   ]
  },
  {
   "cell_type": "code",
   "execution_count": 10,
   "metadata": {
    "collapsed": true
   },
   "outputs": [],
   "source": [
    "cv.imshow(\"img1\", img2)\n",
    "cv.waitKey(0)\n",
    "cv.destroyAllWindows()"
   ]
  },
  {
   "cell_type": "code",
   "execution_count": 11,
   "metadata": {},
   "outputs": [
    {
     "data": {
      "text/plain": [
       "True"
      ]
     },
     "execution_count": 11,
     "metadata": {},
     "output_type": "execute_result"
    }
   ],
   "source": [
    "cv.imwrite(\"images/det_face_colacao.png\", img1)\n",
    "cv.imwrite(\"images/det_face_mark_bday.png\", img2)"
   ]
  },
  {
   "cell_type": "code",
   "execution_count": null,
   "metadata": {
    "collapsed": true
   },
   "outputs": [],
   "source": []
  }
 ],
 "metadata": {
  "kernelspec": {
   "display_name": "Python 3",
   "language": "python",
   "name": "python3"
  },
  "language_info": {
   "codemirror_mode": {
    "name": "ipython",
    "version": 3
   },
   "file_extension": ".py",
   "mimetype": "text/x-python",
   "name": "python",
   "nbconvert_exporter": "python",
   "pygments_lexer": "ipython3",
   "version": "3.6.6"
  }
 },
 "nbformat": 4,
 "nbformat_minor": 2
}
