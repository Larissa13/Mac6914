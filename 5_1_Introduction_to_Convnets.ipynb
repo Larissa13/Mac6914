{
  "nbformat": 4,
  "nbformat_minor": 0,
  "metadata": {
    "colab": {
      "name": "5.1 Introduction to Convnets.ipynb",
      "version": "0.3.2",
      "provenance": [],
      "include_colab_link": true
    },
    "kernelspec": {
      "name": "python3",
      "display_name": "Python 3"
    },
    "accelerator": "GPU"
  },
  "cells": [
    {
      "cell_type": "markdown",
      "metadata": {
        "id": "view-in-github",
        "colab_type": "text"
      },
      "source": [
        "[View in Colaboratory](https://colab.research.google.com/github/Larissa13/Mac6914/blob/master/5_1_Introduction_to_Convnets.ipynb)"
      ]
    },
    {
      "metadata": {
        "id": "9SoZ6eDLj0Cg",
        "colab_type": "code",
        "colab": {
          "base_uri": "https://localhost:8080/",
          "height": 35
        },
        "outputId": "73271fcc-40a7-4d82-9dbd-965b88e6fe70"
      },
      "cell_type": "code",
      "source": [
        "import numpy as np\n",
        "import keras\n",
        "keras.__version__\n"
      ],
      "execution_count": 30,
      "outputs": [
        {
          "output_type": "execute_result",
          "data": {
            "text/plain": [
              "'2.1.6'"
            ]
          },
          "metadata": {
            "tags": []
          },
          "execution_count": 30
        }
      ]
    },
    {
      "metadata": {
        "id": "AGNoDmnplWp8",
        "colab_type": "text"
      },
      "cell_type": "markdown",
      "source": [
        "**Importando e carregando conjunto de dados do MNIST**"
      ]
    },
    {
      "metadata": {
        "id": "jqY3u6cTlWIA",
        "colab_type": "code",
        "colab": {
          "base_uri": "https://localhost:8080/",
          "height": 124
        },
        "outputId": "db398896-79de-4667-a898-94dd378f9d0c"
      },
      "cell_type": "code",
      "source": [
        "from keras.datasets import mnist\n",
        "(train_images, train_labels), (test_images, test_labels) = mnist.load_data()\n",
        "print(\"Dimensões do conjunto de treino \", train_images.shape)\n",
        "print(\"Número de rótulos no conjunto de treino \", len(train_labels))\n",
        "print(\"Rótulos do conjunto de treino \", train_labels)\n",
        "print(\"Dimensões do conjunto de teste \", test_images.shape)\n",
        "print(\"Número de rótulos no conjunto de teste \", len(test_labels))\n",
        "print(\"Rótulos do conjunto de teste \", test_labels)"
      ],
      "execution_count": 31,
      "outputs": [
        {
          "output_type": "stream",
          "text": [
            "Dimensões do conjunto de treino  (60000, 28, 28)\n",
            "Número de rótulos no conjunto de treino  60000\n",
            "Rótulos do conjunto de treino  [5 0 4 ... 5 6 8]\n",
            "Dimensões do conjunto de teste  (10000, 28, 28)\n",
            "Número de rótulos no conjunto de teste  10000\n",
            "Rótulos do conjunto de teste  [7 2 1 ... 4 5 6]\n"
          ],
          "name": "stdout"
        }
      ]
    },
    {
      "metadata": {
        "id": "rMyQWlM2mq_K",
        "colab_type": "text"
      },
      "cell_type": "markdown",
      "source": [
        "**Construindo a rede**"
      ]
    },
    {
      "metadata": {
        "id": "nwMjNYT1mnak",
        "colab_type": "code",
        "colab": {}
      },
      "cell_type": "code",
      "source": [
        "from keras import models\n",
        "from keras import layers"
      ],
      "execution_count": 0,
      "outputs": []
    },
    {
      "metadata": {
        "id": "OusaLpvHm9Xi",
        "colab_type": "code",
        "colab": {}
      },
      "cell_type": "code",
      "source": [
        "network = models.Sequential()\n",
        "network.add(layers.Dense(512, activation = 'relu', input_shape = (28 * 28, )))\n",
        "network.add(layers.Dense(10, activation = 'softmax'))"
      ],
      "execution_count": 0,
      "outputs": []
    },
    {
      "metadata": {
        "id": "DzySS-TxoEPl",
        "colab_type": "code",
        "colab": {}
      },
      "cell_type": "code",
      "source": [
        "network.compile(optimizer= 'rmsprop', loss='categorical_crossentropy', metrics=['accuracy'])"
      ],
      "execution_count": 0,
      "outputs": []
    },
    {
      "metadata": {
        "id": "K05NDIn3oZQl",
        "colab_type": "text"
      },
      "cell_type": "markdown",
      "source": [
        "**Pré-processando as imagens**"
      ]
    },
    {
      "metadata": {
        "id": "NiZ7dgHqod17",
        "colab_type": "code",
        "colab": {}
      },
      "cell_type": "code",
      "source": [
        "train_images = train_images.reshape((60000, 28 * 28))\n",
        "train_images = train_images.astype('float32') / 255\n",
        "\n",
        "test_images = test_images.reshape((10000, 28 * 28))\n",
        "test_images = test_images.astype('float32') / 255"
      ],
      "execution_count": 0,
      "outputs": []
    },
    {
      "metadata": {
        "id": "yATVpFsGoij0",
        "colab_type": "code",
        "colab": {}
      },
      "cell_type": "code",
      "source": [
        "from keras.utils import to_categorical\n",
        "train_labels = to_categorical(train_labels)\n",
        "test_labels = to_categorical(test_labels)"
      ],
      "execution_count": 0,
      "outputs": []
    },
    {
      "metadata": {
        "id": "ssyjBe36orZi",
        "colab_type": "text"
      },
      "cell_type": "markdown",
      "source": [
        "**Treinando a rede**"
      ]
    },
    {
      "metadata": {
        "id": "g0YB_yIHoqut",
        "colab_type": "code",
        "colab": {
          "base_uri": "https://localhost:8080/",
          "height": 214
        },
        "outputId": "d89133f0-29c9-40fe-b1ff-e6cf95879365"
      },
      "cell_type": "code",
      "source": [
        "network.fit(train_images, train_labels, epochs=5, batch_size=128)"
      ],
      "execution_count": 38,
      "outputs": [
        {
          "output_type": "stream",
          "text": [
            "Epoch 1/5\n",
            "60000/60000 [==============================] - 6s 101us/step - loss: 0.2563 - acc: 0.9260\n",
            "Epoch 2/5\n",
            "60000/60000 [==============================] - 6s 96us/step - loss: 0.1038 - acc: 0.9685\n",
            "Epoch 3/5\n",
            "60000/60000 [==============================] - 6s 100us/step - loss: 0.0680 - acc: 0.9796\n",
            "Epoch 4/5\n",
            "60000/60000 [==============================] - 6s 101us/step - loss: 0.0497 - acc: 0.9848\n",
            "Epoch 5/5\n",
            "60000/60000 [==============================] - 6s 103us/step - loss: 0.0370 - acc: 0.9889\n"
          ],
          "name": "stdout"
        },
        {
          "output_type": "execute_result",
          "data": {
            "text/plain": [
              "<keras.callbacks.History at 0x7f19e949cd68>"
            ]
          },
          "metadata": {
            "tags": []
          },
          "execution_count": 38
        }
      ]
    },
    {
      "metadata": {
        "id": "Za4xp2vVpynE",
        "colab_type": "text"
      },
      "cell_type": "markdown",
      "source": [
        "**Exibindo resultados**"
      ]
    },
    {
      "metadata": {
        "id": "jS_VBqm8oYMd",
        "colab_type": "code",
        "colab": {
          "base_uri": "https://localhost:8080/",
          "height": 35
        },
        "outputId": "dedbae94-89d2-4157-d23a-eb1d732c8f37"
      },
      "cell_type": "code",
      "source": [
        "test_loss, test_acc = network.evaluate(test_images, test_labels)"
      ],
      "execution_count": 39,
      "outputs": [
        {
          "output_type": "stream",
          "text": [
            "10000/10000 [==============================] - 1s 66us/step\n"
          ],
          "name": "stdout"
        }
      ]
    },
    {
      "metadata": {
        "id": "yFusYDNvp_kN",
        "colab_type": "code",
        "colab": {
          "base_uri": "https://localhost:8080/",
          "height": 35
        },
        "outputId": "271c9e05-18cd-4f68-cba1-d5b449611db6"
      },
      "cell_type": "code",
      "source": [
        "print(test_loss, test_acc)"
      ],
      "execution_count": 40,
      "outputs": [
        {
          "output_type": "stream",
          "text": [
            "0.0655322072682553 0.9808\n"
          ],
          "name": "stdout"
        }
      ]
    },
    {
      "metadata": {
        "id": "NWhHepH1qI1f",
        "colab_type": "text"
      },
      "cell_type": "markdown",
      "source": [
        "**5 - Convolution Networks**"
      ]
    },
    {
      "metadata": {
        "id": "1FTIHVKPqNPr",
        "colab_type": "code",
        "colab": {}
      },
      "cell_type": "code",
      "source": [
        "model = models.Sequential()\n",
        "model.add(layers.Conv2D(32, (3, 3), activation='relu', input_shape=(28, 28, 1)))\n",
        "model.add(layers.MaxPooling2D((2, 2)))\n",
        "model.add(layers.Conv2D(64, (3, 3), activation='relu'))\n",
        "model.add(layers.MaxPooling2D((2, 2)))\n",
        "model.add(layers.Conv2D(64, (3, 3), activation='relu'))"
      ],
      "execution_count": 0,
      "outputs": []
    },
    {
      "metadata": {
        "id": "0B7TtRIMr0XH",
        "colab_type": "text"
      },
      "cell_type": "markdown",
      "source": [
        "**Mostrando a arquitetura**"
      ]
    },
    {
      "metadata": {
        "id": "z6nqSjvQrHcc",
        "colab_type": "code",
        "colab": {
          "base_uri": "https://localhost:8080/",
          "height": 321
        },
        "outputId": "f249ed67-6660-41ee-fa55-0893024c88e1"
      },
      "cell_type": "code",
      "source": [
        "model.summary()"
      ],
      "execution_count": 50,
      "outputs": [
        {
          "output_type": "stream",
          "text": [
            "_________________________________________________________________\n",
            "Layer (type)                 Output Shape              Param #   \n",
            "=================================================================\n",
            "conv2d_6 (Conv2D)            (None, 26, 26, 32)        320       \n",
            "_________________________________________________________________\n",
            "max_pooling2d_4 (MaxPooling2 (None, 13, 13, 32)        0         \n",
            "_________________________________________________________________\n",
            "conv2d_7 (Conv2D)            (None, 11, 11, 64)        18496     \n",
            "_________________________________________________________________\n",
            "max_pooling2d_5 (MaxPooling2 (None, 5, 5, 64)          0         \n",
            "_________________________________________________________________\n",
            "conv2d_8 (Conv2D)            (None, 3, 3, 64)          36928     \n",
            "=================================================================\n",
            "Total params: 55,744\n",
            "Trainable params: 55,744\n",
            "Non-trainable params: 0\n",
            "_________________________________________________________________\n"
          ],
          "name": "stdout"
        }
      ]
    },
    {
      "metadata": {
        "id": "vmAxHOnfszZP",
        "colab_type": "text"
      },
      "cell_type": "markdown",
      "source": [
        "**Adicionando camadas de classificação**"
      ]
    },
    {
      "metadata": {
        "id": "bNhugR5Dr6MJ",
        "colab_type": "code",
        "colab": {}
      },
      "cell_type": "code",
      "source": [
        "model.add(layers.Flatten())\n",
        "model.add(layers.Dense(64, activation='relu'))\n",
        "model.add(layers.Dense(10, activation='softmax'))"
      ],
      "execution_count": 0,
      "outputs": []
    },
    {
      "metadata": {
        "id": "FKIQzL8htINK",
        "colab_type": "code",
        "colab": {
          "base_uri": "https://localhost:8080/",
          "height": 428
        },
        "outputId": "98c2c78d-d49e-4dda-bf04-699ed8f2626f"
      },
      "cell_type": "code",
      "source": [
        "model.summary()"
      ],
      "execution_count": 52,
      "outputs": [
        {
          "output_type": "stream",
          "text": [
            "_________________________________________________________________\n",
            "Layer (type)                 Output Shape              Param #   \n",
            "=================================================================\n",
            "conv2d_6 (Conv2D)            (None, 26, 26, 32)        320       \n",
            "_________________________________________________________________\n",
            "max_pooling2d_4 (MaxPooling2 (None, 13, 13, 32)        0         \n",
            "_________________________________________________________________\n",
            "conv2d_7 (Conv2D)            (None, 11, 11, 64)        18496     \n",
            "_________________________________________________________________\n",
            "max_pooling2d_5 (MaxPooling2 (None, 5, 5, 64)          0         \n",
            "_________________________________________________________________\n",
            "conv2d_8 (Conv2D)            (None, 3, 3, 64)          36928     \n",
            "_________________________________________________________________\n",
            "flatten_3 (Flatten)          (None, 576)               0         \n",
            "_________________________________________________________________\n",
            "dense_14 (Dense)             (None, 64)                36928     \n",
            "_________________________________________________________________\n",
            "dense_15 (Dense)             (None, 10)                650       \n",
            "=================================================================\n",
            "Total params: 93,322\n",
            "Trainable params: 93,322\n",
            "Non-trainable params: 0\n",
            "_________________________________________________________________\n"
          ],
          "name": "stdout"
        }
      ]
    },
    {
      "metadata": {
        "id": "ymu0nHe7tQzt",
        "colab_type": "code",
        "colab": {}
      },
      "cell_type": "code",
      "source": [
        "(train_images, train_labels), (test_images, test_labels) = mnist.load_data()"
      ],
      "execution_count": 0,
      "outputs": []
    },
    {
      "metadata": {
        "id": "_idXV82UtePL",
        "colab_type": "code",
        "colab": {}
      },
      "cell_type": "code",
      "source": [
        "train_images = train_images.reshape((60000, 28, 28, 1))\n",
        "train_images = train_images.astype('float32')/255\n",
        "test_images = test_images.reshape((10000, 28, 28, 1))\n",
        "test_images = test_images.astype('float32')/255"
      ],
      "execution_count": 0,
      "outputs": []
    },
    {
      "metadata": {
        "id": "pXh4d2zxt8GL",
        "colab_type": "code",
        "colab": {}
      },
      "cell_type": "code",
      "source": [
        "train_labels = to_categorical(train_labels)\n",
        "test_labels = to_categorical(test_labels)"
      ],
      "execution_count": 0,
      "outputs": []
    },
    {
      "metadata": {
        "id": "-qNCL_bkuKOa",
        "colab_type": "text"
      },
      "cell_type": "markdown",
      "source": [
        "**Compilando o Modelo**"
      ]
    },
    {
      "metadata": {
        "id": "DpggytCYuJk7",
        "colab_type": "code",
        "colab": {}
      },
      "cell_type": "code",
      "source": [
        "model.compile(optimizer='rmsprop', loss='categorical_crossentropy', metrics=['accuracy'])"
      ],
      "execution_count": 0,
      "outputs": []
    },
    {
      "metadata": {
        "id": "_Bnd8jAbuGzR",
        "colab_type": "code",
        "colab": {
          "base_uri": "https://localhost:8080/",
          "height": 214
        },
        "outputId": "4f0bba1d-8b51-46c1-b115-bd1713908bb9"
      },
      "cell_type": "code",
      "source": [
        "model.fit(train_images, train_labels, epochs=5, batch_size=64)"
      ],
      "execution_count": 58,
      "outputs": [
        {
          "output_type": "stream",
          "text": [
            "Epoch 1/5\n",
            "60000/60000 [==============================] - 67s 1ms/step - loss: 0.1731 - acc: 0.9466\n",
            "Epoch 2/5\n",
            "60000/60000 [==============================] - 67s 1ms/step - loss: 0.0472 - acc: 0.9853\n",
            "Epoch 3/5\n",
            "60000/60000 [==============================] - 67s 1ms/step - loss: 0.0334 - acc: 0.9896\n",
            "Epoch 4/5\n",
            "60000/60000 [==============================] - 67s 1ms/step - loss: 0.0258 - acc: 0.9922\n",
            "Epoch 5/5\n",
            "60000/60000 [==============================] - 67s 1ms/step - loss: 0.0197 - acc: 0.9938\n"
          ],
          "name": "stdout"
        },
        {
          "output_type": "execute_result",
          "data": {
            "text/plain": [
              "<keras.callbacks.History at 0x7f19e6499a20>"
            ]
          },
          "metadata": {
            "tags": []
          },
          "execution_count": 58
        }
      ]
    },
    {
      "metadata": {
        "id": "jr_OgJ-tujWR",
        "colab_type": "code",
        "colab": {
          "base_uri": "https://localhost:8080/",
          "height": 71
        },
        "outputId": "32d51161-6d3a-4086-f4ae-ecba5eda21b1"
      },
      "cell_type": "code",
      "source": [
        "test_loss, test_acc = model.evaluate(test_images, test_labels)\n",
        "print(\"Função de perda\", test_loss)\n",
        "print(\"Acurácia no conjunto de teste\", test_acc)"
      ],
      "execution_count": 59,
      "outputs": [
        {
          "output_type": "stream",
          "text": [
            "10000/10000 [==============================] - 4s 363us/step\n",
            "Função de perda 0.02313060482564997\n",
            "Acurácia no conjunto de teste 0.9929\n"
          ],
          "name": "stdout"
        }
      ]
    },
    {
      "metadata": {
        "id": "SJS8tKIbv5-3",
        "colab_type": "code",
        "colab": {}
      },
      "cell_type": "code",
      "source": [
        ""
      ],
      "execution_count": 0,
      "outputs": []
    }
  ]
}